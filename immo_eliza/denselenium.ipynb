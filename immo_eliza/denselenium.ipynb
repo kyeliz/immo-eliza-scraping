{
 "cells": [
  {
   "cell_type": "code",
   "execution_count": 10,
   "metadata": {},
   "outputs": [
    {
     "ename": "TimeoutException",
     "evalue": "Message: \nStacktrace:\n0   chromedriver                        0x0000000104904248 cxxbridge1$str$ptr + 1907280\n1   chromedriver                        0x00000001048fc730 cxxbridge1$str$ptr + 1875768\n2   chromedriver                        0x0000000104510260 cxxbridge1$string$len + 89488\n3   chromedriver                        0x000000010455450c cxxbridge1$string$len + 368700\n4   chromedriver                        0x000000010458e7d0 cxxbridge1$string$len + 606976\n5   chromedriver                        0x000000010454912c cxxbridge1$string$len + 322652\n6   chromedriver                        0x0000000104549d7c cxxbridge1$string$len + 325804\n7   chromedriver                        0x00000001048cc4d8 cxxbridge1$str$ptr + 1678560\n8   chromedriver                        0x00000001048d0e40 cxxbridge1$str$ptr + 1697352\n9   chromedriver                        0x00000001048b15ec cxxbridge1$str$ptr + 1568244\n10  chromedriver                        0x00000001048d1710 cxxbridge1$str$ptr + 1699608\n11  chromedriver                        0x00000001048a2b90 cxxbridge1$str$ptr + 1508248\n12  chromedriver                        0x00000001048ed828 cxxbridge1$str$ptr + 1814576\n13  chromedriver                        0x00000001048ed980 cxxbridge1$str$ptr + 1814920\n14  chromedriver                        0x00000001048fc3d0 cxxbridge1$str$ptr + 1874904\n15  libsystem_pthread.dylib             0x00000001865dc26c _pthread_start + 148\n16  libsystem_pthread.dylib             0x00000001865d708c thread_start + 8\n",
     "output_type": "error",
     "traceback": [
      "\u001b[0;31m---------------------------------------------------------------------------\u001b[0m",
      "\u001b[0;31mTimeoutException\u001b[0m                          Traceback (most recent call last)",
      "Cell \u001b[0;32mIn[10], line 30\u001b[0m\n\u001b[1;32m     27\u001b[0m accept_button\u001b[38;5;241m.\u001b[39mclick()\n\u001b[1;32m     28\u001b[0m WebDriverWait(driver,\u001b[38;5;241m10\u001b[39m)\u001b[38;5;241m.\u001b[39muntil(EC\u001b[38;5;241m.\u001b[39mstaleness_of(accept_button))\n\u001b[0;32m---> 30\u001b[0m search_button\u001b[38;5;241m=\u001b[39m \u001b[43mWebDriverWait\u001b[49m\u001b[43m(\u001b[49m\u001b[43mdriver\u001b[49m\u001b[43m,\u001b[49m\u001b[38;5;241;43m20\u001b[39;49m\u001b[43m)\u001b[49m\u001b[38;5;241;43m.\u001b[39;49m\u001b[43muntil\u001b[49m\u001b[43m(\u001b[49m\u001b[43mEC\u001b[49m\u001b[38;5;241;43m.\u001b[39;49m\u001b[43melement_to_be_clickable\u001b[49m\u001b[43m(\u001b[49m\u001b[43m(\u001b[49m\u001b[43mBy\u001b[49m\u001b[38;5;241;43m.\u001b[39;49m\u001b[43mID\u001b[49m\u001b[43m,\u001b[49m\u001b[43m \u001b[49m\u001b[38;5;124;43m'\u001b[39;49m\u001b[38;5;124;43msearchBoxSubmitButton\u001b[39;49m\u001b[38;5;124;43m'\u001b[39;49m\u001b[43m)\u001b[49m\u001b[43m)\u001b[49m\u001b[43m)\u001b[49m\n\u001b[1;32m     31\u001b[0m search_button\u001b[38;5;241m.\u001b[39mclick()\n\u001b[1;32m     33\u001b[0m time\u001b[38;5;241m.\u001b[39msleep(\u001b[38;5;241m15\u001b[39m)\n",
      "File \u001b[0;32m~/Desktop/becode/my_projects/immo-eliza-scraping/venv_immo_eliza/lib/python3.9/site-packages/selenium/webdriver/support/wait.py:105\u001b[0m, in \u001b[0;36mWebDriverWait.until\u001b[0;34m(self, method, message)\u001b[0m\n\u001b[1;32m    103\u001b[0m     \u001b[38;5;28;01mif\u001b[39;00m time\u001b[38;5;241m.\u001b[39mmonotonic() \u001b[38;5;241m>\u001b[39m end_time:\n\u001b[1;32m    104\u001b[0m         \u001b[38;5;28;01mbreak\u001b[39;00m\n\u001b[0;32m--> 105\u001b[0m \u001b[38;5;28;01mraise\u001b[39;00m TimeoutException(message, screen, stacktrace)\n",
      "\u001b[0;31mTimeoutException\u001b[0m: Message: \nStacktrace:\n0   chromedriver                        0x0000000104904248 cxxbridge1$str$ptr + 1907280\n1   chromedriver                        0x00000001048fc730 cxxbridge1$str$ptr + 1875768\n2   chromedriver                        0x0000000104510260 cxxbridge1$string$len + 89488\n3   chromedriver                        0x000000010455450c cxxbridge1$string$len + 368700\n4   chromedriver                        0x000000010458e7d0 cxxbridge1$string$len + 606976\n5   chromedriver                        0x000000010454912c cxxbridge1$string$len + 322652\n6   chromedriver                        0x0000000104549d7c cxxbridge1$string$len + 325804\n7   chromedriver                        0x00000001048cc4d8 cxxbridge1$str$ptr + 1678560\n8   chromedriver                        0x00000001048d0e40 cxxbridge1$str$ptr + 1697352\n9   chromedriver                        0x00000001048b15ec cxxbridge1$str$ptr + 1568244\n10  chromedriver                        0x00000001048d1710 cxxbridge1$str$ptr + 1699608\n11  chromedriver                        0x00000001048a2b90 cxxbridge1$str$ptr + 1508248\n12  chromedriver                        0x00000001048ed828 cxxbridge1$str$ptr + 1814576\n13  chromedriver                        0x00000001048ed980 cxxbridge1$str$ptr + 1814920\n14  chromedriver                        0x00000001048fc3d0 cxxbridge1$str$ptr + 1874904\n15  libsystem_pthread.dylib             0x00000001865dc26c _pthread_start + 148\n16  libsystem_pthread.dylib             0x00000001865d708c thread_start + 8\n"
     ]
    }
   ],
   "source": [
    "from selenium import webdriver\n",
    "from selenium.webdriver.chrome.service import Service\n",
    "from selenium.webdriver.common.by import By\n",
    "from selenium.webdriver.chrome.options import Options\n",
    "from selenium.webdriver.support.ui import WebDriverWait\n",
    "from selenium.webdriver.support import expected_conditions as EC\n",
    "from selenium.webdriver.chrome.options import Options\n",
    "from bs4 import BeautifulSoup\n",
    "import time\n",
    "\n",
    "url=\"https://www.immoweb.be/en/search/house/for-sale?countries=BE&maxPrice=300&page=1&orderBy=relevance\"\n",
    "options=Options()\n",
    "\n",
    "driver=webdriver.Chrome(options=options)\n",
    "\n",
    "try:\n",
    "    driver.get(url)\n",
    "    shadow_host=WebDriverWait(driver,10).until(\n",
    "        EC.presence_of_element_located((By.CSS_SELECTOR,\"#usercentrics-root\"))\n",
    "    )\n",
    " \n",
    "\n",
    "    shadow_root=driver.execute_script('return arguments[0].shadowRoot',shadow_host)\n",
    "    accept_button=WebDriverWait(driver, 10).until(\n",
    "        lambda d:shadow_root.find_element(By.CSS_SELECTOR, \"button[data-testid='uc-accept-all-button']\")\n",
    "    )\n",
    "    accept_button.click()\n",
    "    WebDriverWait(driver,10).until(EC.staleness_of(accept_button))\n",
    "\n",
    "    search_button= WebDriverWait(driver,20).until(EC.element_to_be_clickable((By.ID, 'searchBoxSubmitButton')))\n",
    "    search_button.click()\n",
    "\n",
    "    time.sleep(15)\n",
    "\n",
    "finally:\n",
    "    driver.quit()\n",
    "\n",
    "\n"
   ]
  },
  {
   "cell_type": "code",
   "execution_count": null,
   "metadata": {},
   "outputs": [],
   "source": [
    "from selenium import webdriver\n",
    "from selenium.webdriver.chrome.service import Service\n",
    "from selenium.webdriver.common.by import By\n",
    "from selenium.webdriver.chrome.options import Options\n",
    "from selenium.webdriver.support.ui import WebDriverWait\n",
    "from selenium.webdriver.support import expected_conditions as EC\n",
    "\n",
    "path = '/Users/macos/Desktop/becode/chromedriver'  \n",
    "service = Service(executable_path=path)\n",
    "driver = webdriver.Chrome(service=service)\n",
    "\n",
    "driver.get(\"https://www.immoweb.be/\")\n",
    "\n",
    "try:\n",
    "    # Pop-up üzerinde \"OK\" butonunu bulmak için bekleme süresi\n",
    "    wait = WebDriverWait(driver, 10)  # 10 saniyeye kadar bekle\n",
    "    \n",
    "    # \"OK\" butonunu bul ve tıkla (XPATH veya CSS selector ile bulabilirsiniz)\n",
    "    accept_button = wait.until(EC.element_to_be_clickable((By.XPATH, \"//button[contains(text(), 'OK')]\")))\n",
    "    accept_button.click()\n",
    "\n",
    "except Exception as e:\n",
    "    print(\"Pop-up bulunamadı veya tıklanamadı:\", e)\n"
   ]
  },
  {
   "cell_type": "code",
   "execution_count": null,
   "metadata": {},
   "outputs": [],
   "source": [
    "import requests\n",
    "from bs4 import BeautifulSoup\n",
    "#import pandas\n",
    "from selenium import webdriver\n",
    "from selenium.webdriver.chrome.service import Service\n",
    "from selenium.webdriver.chrome.options import Options\n",
    "from webdriver_manager.chrome import ChromeDriverManager\n",
    "\n",
    "\n",
    "\n",
    "url=\"https://www.immoweb.be/en/search/house/for-sale?countries=BE&maxPrice=300&page=1&orderBy=relevance\"\n",
    "options=Options()\n",
    "options.add_experimental_option(\"detach\", True)\n",
    "\n",
    "driver=webdriver.Chrome(service=Service(ChromeDriverManager().install()), options=options)\n",
    "driver.get(url)\n",
    "\n",
    "\n",
    "links=driver.find_elements(\"xpath\", \"//a[@href]\")\n",
    "for link in links:\n",
    "    #print(link.get_attribute(\"innerHTML\"))\n",
    "    if \"House\" in link.get_attribute(\"innerHTML\"):\n",
    "        link.click\n",
    "        break\n",
    "house_links=driver.find_elements(\"xpath\", \"//div[contains@class,]\")\n",
    "print(house_links.get_attribute(\"innerHTML\"))\n",
    "\n",
    "#property_id=driver.find_elements(\"xpath\", \"//section[@class='classified__header--immoweb-code'])\n",
    "\n",
    "#article_titles = driver.find_elements(By.XPATH, \"//section[@class='story-wrapper']//h3\")\n",
    "#all_titles = []\n",
    "#for title in article_titles:\n",
    "#    all_titles.append(title.text)\n"
   ]
  }
 ],
 "metadata": {
  "kernelspec": {
   "display_name": "venv_immo_eliza",
   "language": "python",
   "name": "python3"
  },
  "language_info": {
   "codemirror_mode": {
    "name": "ipython",
    "version": 3
   },
   "file_extension": ".py",
   "mimetype": "text/x-python",
   "name": "python",
   "nbconvert_exporter": "python",
   "pygments_lexer": "ipython3",
   "version": "3.9.7"
  }
 },
 "nbformat": 4,
 "nbformat_minor": 2
}
